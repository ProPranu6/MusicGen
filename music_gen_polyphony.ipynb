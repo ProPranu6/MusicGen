{
 "cells": [
  {
   "cell_type": "code",
   "execution_count": 1,
   "metadata": {},
   "outputs": [],
   "source": [
    "from processing.polyphony import *\n",
    "import processing.polyphony as pp \n"
   ]
  },
  {
   "cell_type": "code",
   "execution_count": 2,
   "metadata": {},
   "outputs": [
    {
     "name": "stderr",
     "output_type": "stream",
     "text": [
      "Learning train vocab...: 100%|██████████| 7200/7200 [5:06:12<00:00,  2.55s/it]      \n",
      "Preparing train dataset...: 100%|██████████| 7200/7200 [30:02<00:00,  3.99it/s]  \n",
      "Preparing val dataset...: 100%|██████████| 1800/1800 [07:43<00:00,  3.89it/s]\n",
      "Preparing test dataset...: 100%|██████████| 1000/1000 [04:12<00:00,  3.96it/s]\n"
     ]
    }
   ],
   "source": [
    "#output_sequence_len = 0 if not encoder_decoder else >=1\n",
    "\n",
    "# Data INFO\n",
    "# ~175K midi files  \n",
    "# Files could be short melodies, loop compositions or long symphonies or songs\n",
    "# ~10K midi files in each of the 16 top level subdirectories \n",
    "# Considering 300 midi files at present3, at 8 resolution..~ 0.2% Dataset\n",
    "# Generating a polyphonic monophony music (multiple instruments each following a monophonic melody line independently) or type of contrapuntal \n",
    "train_source, val_source, test_source  = sample_dataset('./lpd_5/all', nsamples=10000, train_size=0.9, val_size=0.2, input_sequence_len=100, output_sequence_len=100, resolution=8, batch_size=128, encoder_decoder=True)"
   ]
  },
  {
   "cell_type": "code",
   "execution_count": 9,
   "metadata": {},
   "outputs": [
    {
     "data": {
      "text/plain": [
       "13230"
      ]
     },
     "execution_count": 9,
     "metadata": {},
     "output_type": "execute_result"
    }
   ],
   "source": [
    "train_source = ('lpd_5_batched/train_inputs', 'lpd_5_batched/train_outputs')\n",
    "music_loader = load_music_batches(*train_source, encoder_decoder=True)\n",
    "steps = len(os.listdir(train_source[0]))-1\n",
    "steps\n",
    "\n"
   ]
  },
  {
   "cell_type": "code",
   "execution_count": 10,
   "metadata": {},
   "outputs": [
    {
     "data": {
      "text/plain": [
       "3424"
      ]
     },
     "execution_count": 10,
     "metadata": {},
     "output_type": "execute_result"
    }
   ],
   "source": [
    "val_source = ('lpd_5_batched/val_inputs', 'lpd_5_batched/val_outputs')\n",
    "val_music_loader = load_music_batches(*val_source, encoder_decoder=True)\n",
    "val_steps = len(os.listdir(val_source[0]))-1\n",
    "val_steps"
   ]
  },
  {
   "cell_type": "code",
   "execution_count": 11,
   "metadata": {},
   "outputs": [
    {
     "name": "stderr",
     "output_type": "stream",
     "text": [
      "WARNING:absl:At this time, the v2.11+ optimizer `tf.keras.optimizers.Adam` runs slowly on M1/M2 Macs, please use the legacy Keras optimizer instead, located at `tf.keras.optimizers.legacy.Adam`.\n"
     ]
    },
    {
     "name": "stdout",
     "output_type": "stream",
     "text": [
      "Model: \"model_1\"\n",
      "__________________________________________________________________________________________________\n",
      " Layer (type)                Output Shape                 Param #   Connected to                  \n",
      "==================================================================================================\n",
      " input_3 (InputLayer)        [(None, None, 1)]            0         []                            \n",
      "                                                                                                  \n",
      " input_4 (InputLayer)        [(None, None, 1)]            0         []                            \n",
      "                                                                                                  \n",
      " time_distributed_2 (TimeDi  (None, None, 100)            212800    ['input_3[0][0]']             \n",
      " stributed)                                                                                       \n",
      "                                                                                                  \n",
      " time_distributed_3 (TimeDi  (None, None, 100)            212800    ['input_4[0][0]']             \n",
      " stributed)                                                                                       \n",
      "                                                                                                  \n",
      " transformer_encoder_2 (Tra  (None, None, 100)            119688    ['time_distributed_2[0][0]']  \n",
      " nsformerEncoder)                                                                                 \n",
      "                                                                                                  \n",
      " transformer_decoder_3 (Tra  (None, None, 100)            119688    ['time_distributed_3[0][0]']  \n",
      " nsformerDecoder)                                                                                 \n",
      "                                                                                                  \n",
      " transformer_encoder_3 (Tra  (None, None, 100)            119688    ['transformer_encoder_2[0][0]'\n",
      " nsformerEncoder)                                                   ]                             \n",
      "                                                                                                  \n",
      " transformer_decoder_4 (Tra  (None, None, 100)            158676    ['transformer_decoder_3[0][0]'\n",
      " nsformerDecoder)                                                   , 'transformer_encoder_3[0][0]\n",
      "                                                                    ']                            \n",
      "                                                                                                  \n",
      " transformer_decoder_5 (Tra  (None, None, 100)            119688    ['transformer_decoder_4[0][0]'\n",
      " nsformerDecoder)                                                   ]                             \n",
      "                                                                                                  \n",
      " instrument_1 (TimeDistribu  (None, None, 2128)           214928    ['transformer_decoder_5[0][0]'\n",
      " ted)                                                               ]                             \n",
      "                                                                                                  \n",
      "==================================================================================================\n",
      "Total params: 1065156 (4.06 MB)\n",
      "Trainable params: 1065156 (4.06 MB)\n",
      "Non-trainable params: 0 (0.00 Byte)\n",
      "__________________________________________________________________________________________________\n"
     ]
    }
   ],
   "source": [
    "from models import transformer_encoder_decoder\n",
    "model = transformer_encoder_decoder(music_dim=pp.vocab['last']+1)\n",
    "model.summary()"
   ]
  },
  {
   "cell_type": "code",
   "execution_count": 12,
   "metadata": {},
   "outputs": [
    {
     "data": {
      "image/png": "[encoded data removed]",
      "text/plain": [
       "<IPython.core.display.Image object>"
      ]
     },
     "execution_count": 12,
     "metadata": {},
     "output_type": "execute_result"
    }
   ],
   "source": [
    "tf.keras.utils.plot_model(model, show_layer_names=True, show_shapes=True)"
   ]
  },
  {
   "cell_type": "code",
   "execution_count": 13,
   "metadata": {},
   "outputs": [],
   "source": [
    "import tensorflow as tf\n",
    "import os\n",
    "\n",
    "\n",
    "class ModelCheckpoint(tf.keras.callbacks.Callback):\n",
    "    def __init__(self, model, checkpoint_dir, save_best_only=True):\n",
    "        super(ModelCheckpoint, self).__init__()\n",
    "        self.model = model\n",
    "        self.checkpoint_dir = checkpoint_dir\n",
    "        self.save_best_only = save_best_only\n",
    "        self.best_val_loss = float('inf')\n",
    "\n",
    "    def on_epoch_end(self, epoch, logs=None):\n",
    "        val_loss = logs.get('val_loss')\n",
    "        if self.save_best_only and val_loss < self.best_val_loss:\n",
    "            self.best_val_loss = val_loss\n",
    "            filepath = os.path.join(self.checkpoint_dir, f\"best_model.keras\")\n",
    "            self.model.save(filepath, overwrite=True)\n",
    "            print(f\"Saved model to {filepath} (val_loss: {val_loss:.4f})\")\n",
    "        else:\n",
    "            filepath = os.path.join(self.checkpoint_dir, f\"model_epoch_{epoch}.keras\")\n",
    "            self.model.save(filepath, overwrite=True)\n",
    "            print(f\"Saved model to {filepath} (val_loss: {val_loss:.4f})\")\n",
    "\n",
    "modelname = \"encoder-decoder-transformer-10Ksamples-1instrument-longer-2\"\n",
    "checkpoint_dir = f\"./{modelname}-checkpoints\"\n",
    "os.makedirs(checkpoint_dir, exist_ok=True)\n",
    "model_checkpoint = ModelCheckpoint(model, checkpoint_dir)\n",
    "callbacks_list = [model_checkpoint]   \n",
    "\n"
   ]
  },
  {
   "cell_type": "code",
   "execution_count": null,
   "metadata": {},
   "outputs": [],
   "source": [
    "history = model.fit(music_loader, steps_per_epoch=steps, validation_data=val_music_loader, validation_steps=val_steps, epochs=50, callbacks=callbacks_list)"
   ]
  },
  {
   "cell_type": "code",
   "execution_count": 17,
   "metadata": {},
   "outputs": [
    {
     "name": "stderr",
     "output_type": "stream",
     "text": [
      "WARNING:absl:At this time, the v2.11+ optimizer `tf.keras.optimizers.RestoredOptimizer` runs slowly on M1/M2 Macs, please use the legacy Keras optimizer instead, located at `tf.keras.optimizers.legacy.RestoredOptimizer`.\n",
      "WARNING:absl:At this time, the v2.11+ optimizer `tf.keras.optimizers.Adam` runs slowly on M1/M2 Macs, please use the legacy Keras optimizer instead, located at `tf.keras.optimizers.legacy.Adam`.\n"
     ]
    },
    {
     "name": "stdout",
     "output_type": "stream",
     "text": [
      "Model: \"model_1\"\n",
      "__________________________________________________________________________________________________\n",
      " Layer (type)                Output Shape                 Param #   Connected to                  \n",
      "==================================================================================================\n",
      " input_3 (InputLayer)        [(None, None, 1)]            0         []                            \n",
      "                                                                                                  \n",
      " input_4 (InputLayer)        [(None, None, 1)]            0         []                            \n",
      "                                                                                                  \n",
      " time_distributed_2 (TimeDi  (None, None, 100)            212800    ['input_3[0][0]']             \n",
      " stributed)                                                                                       \n",
      "                                                                                                  \n",
      " time_distributed_3 (TimeDi  (None, None, 100)            212800    ['input_4[0][0]']             \n",
      " stributed)                                                                                       \n",
      "                                                                                                  \n",
      " transformer_encoder_2 (Tra  (None, None, 100)            119688    ['time_distributed_2[0][0]']  \n",
      " nsformerEncoder)                                                                                 \n",
      "                                                                                                  \n",
      " transformer_decoder_3 (Tra  (None, None, 100)            119688    ['time_distributed_3[0][0]']  \n",
      " nsformerDecoder)                                                                                 \n",
      "                                                                                                  \n",
      " transformer_encoder_3 (Tra  (None, None, 100)            119688    ['transformer_encoder_2[0][0]'\n",
      " nsformerEncoder)                                                   ]                             \n",
      "                                                                                                  \n",
      " transformer_decoder_4 (Tra  (None, None, 100)            158676    ['transformer_decoder_3[0][0]'\n",
      " nsformerDecoder)                                                   , 'transformer_encoder_3[0][0]\n",
      "                                                                    ']                            \n",
      "                                                                                                  \n",
      " transformer_decoder_5 (Tra  (None, None, 100)            119688    ['transformer_decoder_4[0][0]'\n",
      " nsformerDecoder)                                                   ]                             \n",
      "                                                                                                  \n",
      " instrument_1 (TimeDistribu  (None, None, 2128)           214928    ['transformer_decoder_5[0][0]'\n",
      " ted)                                                               ]                             \n",
      "                                                                                                  \n",
      "==================================================================================================\n",
      "Total params: 1065156 (4.06 MB)\n",
      "Trainable params: 1065156 (4.06 MB)\n",
      "Non-trainable params: 0 (0.00 Byte)\n",
      "__________________________________________________________________________________________________\n"
     ]
    }
   ],
   "source": [
    "modell = tf.keras.models.load_model('encoder-decoder-transformer-10Ksamples-1instrument-longer-2')\n",
    "modell.summary()"
   ]
  },
  {
   "cell_type": "code",
   "execution_count": 16,
   "metadata": {},
   "outputs": [
    {
     "name": "stdout",
     "output_type": "stream",
     "text": [
      "INFO:tensorflow:Assets written to: encoder-decoder-transformer-10Ksamples-1instrument-longer-2/assets\n"
     ]
    },
    {
     "name": "stderr",
     "output_type": "stream",
     "text": [
      "INFO:tensorflow:Assets written to: encoder-decoder-transformer-10Ksamples-1instrument-longer-2/assets\n"
     ]
    }
   ],
   "source": [
    "model.save('encoder-decoder-transformer-10Ksamples-1instrument-longer-2')"
   ]
  },
  {
   "cell_type": "code",
   "execution_count": 12,
   "metadata": {},
   "outputs": [
    {
     "name": "stdout",
     "output_type": "stream",
     "text": [
      "INFO:tensorflow:Assets written to: encoder-decoder-transformer-10Ksamples-1instrument-longer-2/assets\n"
     ]
    },
    {
     "name": "stderr",
     "output_type": "stream",
     "text": [
      "INFO:tensorflow:Assets written to: encoder-decoder-transformer-10Ksamples-1instrument-longer-2/assets\n"
     ]
    }
   ],
   "source": [
    "model.save(modelname)"
   ]
  },
  {
   "cell_type": "code",
   "execution_count": 7,
   "metadata": {},
   "outputs": [
    {
     "name": "stderr",
     "output_type": "stream",
     "text": [
      "WARNING:absl:At this time, the v2.11+ optimizer `tf.keras.optimizers.RestoredOptimizer` runs slowly on M1/M2 Macs, please use the legacy Keras optimizer instead, located at `tf.keras.optimizers.legacy.RestoredOptimizer`.\n",
      "WARNING:absl:At this time, the v2.11+ optimizer `tf.keras.optimizers.Adam` runs slowly on M1/M2 Macs, please use the legacy Keras optimizer instead, located at `tf.keras.optimizers.legacy.Adam`.\n"
     ]
    }
   ],
   "source": [
    "model = tf.keras.models.load_model(modelname)"
   ]
  },
  {
   "cell_type": "code",
   "execution_count": null,
   "metadata": {},
   "outputs": [],
   "source": [
    "tracks = sample_track('lpd_5/all', nsamples=1000, input_sequence_len=100, resolution=8)"
   ]
  },
  {
   "cell_type": "code",
   "execution_count": 9,
   "metadata": {},
   "outputs": [
    {
     "data": {
      "text/plain": [
       "((100, 1), (919, 1))"
      ]
     },
     "execution_count": 9,
     "metadata": {},
     "output_type": "execute_result"
    }
   ],
   "source": []
  },
  {
   "cell_type": "code",
   "execution_count": 35,
   "metadata": {},
   "outputs": [
    {
     "name": "stdout",
     "output_type": "stream",
     "text": [
      "Sample : 1\n",
      "Composing for 175 time steps at 60 bpm\n",
      "Composition Done...\n",
      "MIDI file saved as: ./generations_set/generated_track_transformer_0.mid\n",
      "Track Done...\n",
      "Generated Midi file Done...\n",
      "Playing ./generations_set/generated_track_transformer_0.mid\n",
      "MIDI file: ./generations_set/generated_track_transformer_0.mid\n",
      "Format: 1  Tracks: 2  Divisions: 10080\n",
      "Track name: Piano\n",
      "Playing time: ~92 seconds\n",
      "Notes cut: 0\n",
      "Notes lost totally: 0\n",
      "Conversion completed successfully.\n",
      "Generated Audio file Done...\n",
      "MIDI file saved as: ./validation_set/original_track_transformer_0.mid\n",
      "Original Track Done...\n",
      "Original Midi file Done...\n",
      "Playing ./validation_set/original_track_transformer_0.mid\n",
      "MIDI file: ./validation_set/original_track_transformer_0.mid\n",
      "Format: 1  Tracks: 2  Divisions: 10080\n",
      "Track name: Piano\n",
      "Playing time: ~91 seconds\n",
      "Notes cut: 0\n",
      "Notes lost totally: 0\n",
      "Conversion completed successfully.\n",
      "Original Audio file Done...\n",
      "Sample : 2\n",
      "Composing for 135 time steps at 60 bpm\n",
      "Composition Done...\n",
      "MIDI file saved as: ./generations_set/generated_track_transformer_1.mid\n",
      "Track Done...\n",
      "Generated Midi file Done...\n",
      "Playing ./generations_set/generated_track_transformer_1.mid\n",
      "MIDI file: ./generations_set/generated_track_transformer_1.mid\n",
      "Format: 1  Tracks: 2  Divisions: 10080\n",
      "Track name: Piano\n",
      "Playing time: ~71 seconds\n",
      "Notes cut: 0\n",
      "Notes lost totally: 0\n",
      "Conversion completed successfully.\n",
      "Generated Audio file Done...\n",
      "MIDI file saved as: ./validation_set/original_track_transformer_1.mid\n",
      "Original Track Done...\n",
      "Original Midi file Done...\n",
      "Playing ./validation_set/original_track_transformer_1.mid\n",
      "MIDI file: ./validation_set/original_track_transformer_1.mid\n",
      "Format: 1  Tracks: 2  Divisions: 10080\n",
      "Track name: Piano\n",
      "Playing time: ~70 seconds\n",
      "Notes cut: 0\n",
      "Notes lost totally: 0\n",
      "Conversion completed successfully.\n",
      "Original Audio file Done...\n",
      "Sample : 3\n",
      "Composing for 320 time steps at 60 bpm\n",
      "Composition Done...\n",
      "MIDI file saved as: ./generations_set/generated_track_transformer_2.mid\n",
      "Track Done...\n",
      "Generated Midi file Done...\n",
      "Playing ./generations_set/generated_track_transformer_2.mid\n",
      "MIDI file: ./generations_set/generated_track_transformer_2.mid\n",
      "Format: 1  Tracks: 2  Divisions: 10080\n",
      "Track name: Piano\n",
      "Playing time: ~164 seconds\n",
      "Notes cut: 0\n",
      "Notes lost totally: 0\n",
      "Conversion completed successfully.\n",
      "Generated Audio file Done...\n",
      "MIDI file saved as: ./validation_set/original_track_transformer_2.mid\n",
      "Original Track Done...\n",
      "Original Midi file Done...\n",
      "Playing ./validation_set/original_track_transformer_2.mid\n",
      "MIDI file: ./validation_set/original_track_transformer_2.mid\n",
      "Format: 1  Tracks: 2  Divisions: 10080\n",
      "Track name: Piano\n",
      "Playing time: ~163 seconds\n",
      "Notes cut: 0\n",
      "Notes lost totally: 0\n",
      "Conversion completed successfully.\n",
      "Original Audio file Done...\n",
      "Sample : 4\n",
      "Composing for 117 time steps at 60 bpm\n",
      "Composition Done...\n",
      "MIDI file saved as: ./generations_set/generated_track_transformer_3.mid\n",
      "Track Done...\n",
      "Generated Midi file Done...\n",
      "Playing ./generations_set/generated_track_transformer_3.mid\n",
      "MIDI file: ./generations_set/generated_track_transformer_3.mid\n",
      "Format: 1  Tracks: 2  Divisions: 10080\n",
      "Track name: Piano\n",
      "Playing time: ~62 seconds\n",
      "Notes cut: 0\n",
      "Notes lost totally: 0\n",
      "Conversion completed successfully.\n",
      "Generated Audio file Done...\n",
      "MIDI file saved as: ./validation_set/original_track_transformer_3.mid\n",
      "Original Track Done...\n",
      "Original Midi file Done...\n",
      "Playing ./validation_set/original_track_transformer_3.mid\n",
      "MIDI file: ./validation_set/original_track_transformer_3.mid\n",
      "Format: 1  Tracks: 2  Divisions: 10080\n",
      "Track name: Piano\n",
      "Playing time: ~62 seconds\n",
      "Notes cut: 0\n",
      "Notes lost totally: 0\n",
      "Conversion completed successfully.\n",
      "Original Audio file Done...\n",
      "Sample : 5\n",
      "Composing for 245 time steps at 60 bpm\n",
      "Composition Done...\n",
      "MIDI file saved as: ./generations_set/generated_track_transformer_4.mid\n",
      "Track Done...\n",
      "Generated Midi file Done...\n",
      "Playing ./generations_set/generated_track_transformer_4.mid\n",
      "MIDI file: ./generations_set/generated_track_transformer_4.mid\n",
      "Format: 1  Tracks: 2  Divisions: 10080\n",
      "Track name: Piano\n",
      "Playing time: ~127 seconds\n",
      "Notes cut: 0\n",
      "Notes lost totally: 0\n",
      "Conversion completed successfully.\n",
      "Generated Audio file Done...\n",
      "MIDI file saved as: ./validation_set/original_track_transformer_4.mid\n",
      "Original Track Done...\n",
      "Original Midi file Done...\n",
      "Playing ./validation_set/original_track_transformer_4.mid\n",
      "MIDI file: ./validation_set/original_track_transformer_4.mid\n",
      "Format: 1  Tracks: 2  Divisions: 10080\n",
      "Track name: Piano\n",
      "Playing time: ~126 seconds\n",
      "Notes cut: 0\n",
      "Notes lost totally: 0\n",
      "Conversion completed successfully.\n",
      "Original Audio file Done...\n",
      "Sample : 6\n",
      "Composing for 0 time steps at 60 bpm\n",
      "Composition Done...\n",
      "MIDI file saved as: ./generations_set/generated_track_transformer_5.mid\n",
      "Track Done...\n",
      "Generated Midi file Done...\n",
      "Playing ./generations_set/generated_track_transformer_5.mid\n",
      "MIDI file: ./generations_set/generated_track_transformer_5.mid\n",
      "Format: 1  Tracks: 2  Divisions: 10080\n",
      "Track name: Piano\n",
      "Playing time: ~127 seconds\n",
      "Notes cut: 0\n",
      "Notes lost totally: 0\n",
      "Conversion completed successfully.\n",
      "Generated Audio file Done...\n",
      "cannot call `vectorize` on size 0 inputs unless `otypes` is set\n",
      "Sample : 7\n",
      "Composing for 38 time steps at 60 bpm\n",
      "Composition Done...\n",
      "MIDI file saved as: ./generations_set/generated_track_transformer_6.mid\n",
      "Track Done...\n",
      "Generated Midi file Done...\n",
      "Playing ./generations_set/generated_track_transformer_6.mid\n",
      "MIDI file: ./generations_set/generated_track_transformer_6.mid\n",
      "Format: 1  Tracks: 2  Divisions: 10080\n",
      "Track name: Piano\n",
      "Playing time: ~23 seconds\n",
      "Notes cut: 0\n",
      "Notes lost totally: 0\n",
      "Conversion completed successfully.\n",
      "Generated Audio file Done...\n",
      "MIDI file saved as: ./validation_set/original_track_transformer_6.mid\n",
      "Original Track Done...\n",
      "Original Midi file Done...\n",
      "Playing ./validation_set/original_track_transformer_6.mid\n",
      "MIDI file: ./validation_set/original_track_transformer_6.mid\n",
      "Format: 1  Tracks: 2  Divisions: 10080\n",
      "Track name: Piano\n",
      "Playing time: ~22 seconds\n",
      "Notes cut: 0\n",
      "Notes lost totally: 0\n",
      "Conversion completed successfully.\n",
      "Original Audio file Done...\n",
      "Sample : 8\n",
      "Composing for 351 time steps at 60 bpm\n",
      "Composition Done...\n",
      "MIDI file saved as: ./generations_set/generated_track_transformer_7.mid\n",
      "Track Done...\n",
      "Generated Midi file Done...\n",
      "Playing ./generations_set/generated_track_transformer_7.mid\n",
      "MIDI file: ./generations_set/generated_track_transformer_7.mid\n",
      "Format: 1  Tracks: 2  Divisions: 10080\n",
      "Track name: Piano\n",
      "Playing time: ~179 seconds\n",
      "Notes cut: 0\n",
      "Notes lost totally: 0\n",
      "Conversion completed successfully.\n",
      "Generated Audio file Done...\n",
      "MIDI file saved as: ./validation_set/original_track_transformer_7.mid\n",
      "Original Track Done...\n",
      "Original Midi file Done...\n",
      "Playing ./validation_set/original_track_transformer_7.mid\n",
      "MIDI file: ./validation_set/original_track_transformer_7.mid\n",
      "Format: 1  Tracks: 2  Divisions: 10080\n",
      "Track name: Piano\n",
      "Playing time: ~178 seconds\n",
      "Notes cut: 0\n",
      "Notes lost totally: 0\n",
      "Conversion completed successfully.\n",
      "Original Audio file Done...\n",
      "Sample : 9\n",
      "Composing for 30 time steps at 60 bpm\n",
      "Composition Done...\n",
      "MIDI file saved as: ./generations_set/generated_track_transformer_8.mid\n",
      "Track Done...\n",
      "Generated Midi file Done...\n",
      "Playing ./generations_set/generated_track_transformer_8.mid\n",
      "MIDI file: ./generations_set/generated_track_transformer_8.mid\n",
      "Format: 1  Tracks: 2  Divisions: 10080\n",
      "Track name: Piano\n",
      "Playing time: ~19 seconds\n",
      "Notes cut: 0\n",
      "Notes lost totally: 0\n",
      "Conversion completed successfully.\n",
      "Generated Audio file Done...\n",
      "MIDI file saved as: ./validation_set/original_track_transformer_8.mid\n",
      "Original Track Done...\n",
      "Original Midi file Done...\n",
      "Playing ./validation_set/original_track_transformer_8.mid\n",
      "MIDI file: ./validation_set/original_track_transformer_8.mid\n",
      "Format: 1  Tracks: 2  Divisions: 10080\n",
      "Track name: Piano\n",
      "Playing time: ~18 seconds\n",
      "Notes cut: 0\n",
      "Notes lost totally: 0\n",
      "Conversion completed successfully.\n",
      "Original Audio file Done...\n",
      "Sample : 10\n",
      "Composing for 106 time steps at 60 bpm\n",
      "Composition Done...\n",
      "MIDI file saved as: ./generations_set/generated_track_transformer_9.mid\n",
      "Track Done...\n",
      "Generated Midi file Done...\n",
      "Playing ./generations_set/generated_track_transformer_9.mid\n",
      "MIDI file: ./generations_set/generated_track_transformer_9.mid\n",
      "Format: 1  Tracks: 2  Divisions: 10080\n",
      "Track name: Piano\n",
      "Playing time: ~57 seconds\n",
      "Notes cut: 0\n",
      "Notes lost totally: 0\n",
      "Conversion completed successfully.\n",
      "Generated Audio file Done...\n",
      "MIDI file saved as: ./validation_set/original_track_transformer_9.mid\n",
      "Original Track Done...\n",
      "Original Midi file Done...\n",
      "Playing ./validation_set/original_track_transformer_9.mid\n",
      "MIDI file: ./validation_set/original_track_transformer_9.mid\n",
      "Format: 1  Tracks: 2  Divisions: 10080\n",
      "Track name: Piano\n",
      "Playing time: ~56 seconds\n",
      "Notes cut: 0\n",
      "Notes lost totally: 0\n",
      "Conversion completed successfully.\n",
      "Original Audio file Done...\n",
      "Sample : 11\n",
      "Composing for 0 time steps at 60 bpm\n",
      "Composition Done...\n",
      "MIDI file saved as: ./generations_set/generated_track_transformer_10.mid\n",
      "Track Done...\n",
      "Generated Midi file Done...\n",
      "Playing ./generations_set/generated_track_transformer_10.mid\n",
      "MIDI file: ./generations_set/generated_track_transformer_10.mid\n",
      "Format: 1  Tracks: 2  Divisions: 10080\n",
      "Track name: Piano\n",
      "Playing time: ~57 seconds\n",
      "Notes cut: 0\n",
      "Notes lost totally: 0\n",
      "Conversion completed successfully.\n",
      "Generated Audio file Done...\n",
      "cannot call `vectorize` on size 0 inputs unless `otypes` is set\n",
      "Sample : 12\n",
      "Composing for 714 time steps at 60 bpm\n",
      "Composition Done...\n",
      "MIDI file saved as: ./generations_set/generated_track_transformer_11.mid\n",
      "Track Done...\n",
      "Generated Midi file Done...\n",
      "Playing ./generations_set/generated_track_transformer_11.mid\n",
      "MIDI file: ./generations_set/generated_track_transformer_11.mid\n",
      "Format: 1  Tracks: 2  Divisions: 10080\n",
      "Track name: Piano\n",
      "Playing time: ~360 seconds\n",
      "Notes cut: 0\n",
      "Notes lost totally: 0\n",
      "Conversion completed successfully.\n",
      "Generated Audio file Done...\n",
      "MIDI file saved as: ./validation_set/original_track_transformer_11.mid\n",
      "Original Track Done...\n",
      "Original Midi file Done...\n",
      "Playing ./validation_set/original_track_transformer_11.mid\n",
      "MIDI file: ./validation_set/original_track_transformer_11.mid\n",
      "Format: 1  Tracks: 2  Divisions: 10080\n",
      "Track name: Piano\n",
      "Playing time: ~361 seconds\n",
      "Notes cut: 0\n",
      "Notes lost totally: 0\n",
      "Conversion completed successfully.\n",
      "Original Audio file Done...\n",
      "Sample : 13\n",
      "Composing for 0 time steps at 60 bpm\n",
      "Composition Done...\n",
      "MIDI file saved as: ./generations_set/generated_track_transformer_12.mid\n",
      "Track Done...\n",
      "Generated Midi file Done...\n",
      "Playing ./generations_set/generated_track_transformer_12.mid\n",
      "MIDI file: ./generations_set/generated_track_transformer_12.mid\n",
      "Format: 1  Tracks: 2  Divisions: 10080\n",
      "Track name: Piano\n",
      "Playing time: ~360 seconds\n",
      "Notes cut: 0\n",
      "Notes lost totally: 0\n",
      "Conversion completed successfully.\n",
      "Generated Audio file Done...\n",
      "cannot call `vectorize` on size 0 inputs unless `otypes` is set\n",
      "Sample : 14\n",
      "Composing for 0 time steps at 60 bpm\n",
      "Composition Done...\n",
      "MIDI file saved as: ./generations_set/generated_track_transformer_13.mid\n",
      "Track Done...\n",
      "Generated Midi file Done...\n",
      "Playing ./generations_set/generated_track_transformer_13.mid\n",
      "MIDI file: ./generations_set/generated_track_transformer_13.mid\n",
      "Format: 1  Tracks: 2  Divisions: 10080\n",
      "Track name: Piano\n",
      "Playing time: ~360 seconds\n",
      "Notes cut: 0\n",
      "Notes lost totally: 0\n",
      "Conversion completed successfully.\n",
      "Generated Audio file Done...\n",
      "cannot call `vectorize` on size 0 inputs unless `otypes` is set\n",
      "Sample : 15\n",
      "Composing for 717 time steps at 60 bpm\n",
      "Composition Done...\n",
      "MIDI file saved as: ./generations_set/generated_track_transformer_14.mid\n",
      "Track Done...\n",
      "Generated Midi file Done...\n",
      "Playing ./generations_set/generated_track_transformer_14.mid\n",
      "MIDI file: ./generations_set/generated_track_transformer_14.mid\n",
      "Format: 1  Tracks: 2  Divisions: 10080\n",
      "Track name: Piano\n",
      "Playing time: ~361 seconds\n",
      "Notes cut: 0\n",
      "Notes lost totally: 0\n",
      "Conversion completed successfully.\n",
      "Generated Audio file Done...\n",
      "MIDI file saved as: ./validation_set/original_track_transformer_14.mid\n",
      "Original Track Done...\n",
      "Original Midi file Done...\n",
      "Playing ./validation_set/original_track_transformer_14.mid\n",
      "MIDI file: ./validation_set/original_track_transformer_14.mid\n",
      "Format: 1  Tracks: 2  Divisions: 10080\n",
      "Track name: Piano\n",
      "Playing time: ~359 seconds\n",
      "Notes cut: 0\n",
      "Notes lost totally: 0\n",
      "Conversion completed successfully.\n",
      "Original Audio file Done...\n"
     ]
    }
   ],
   "source": [
    "\n",
    "os.makedirs('./generations_set', exist_ok=True)\n",
    "os.makedirs('./validation_set', exist_ok=True)\n",
    "\n",
    "for i in range(15):\n",
    "    print(f\"Sample : {i+1}\")\n",
    "    try:\n",
    "        x, y = tracks[randint(0, len(tracks)-1)]\n",
    "        composer = compose_music(music_model=model, cue=x, topn=129, encoder_decoder=True, print_gen=False)\n",
    "        total_track_length = y.shape[0]\n",
    "        composition_length = int(0.5*total_track_length)\n",
    "        TEMPO = 60\n",
    "\n",
    "        print(f\"Composing for {composition_length} time steps at {TEMPO} bpm\")\n",
    "        for _ in range(composition_length):\n",
    "            composition = next(composer)\n",
    "         \n",
    "        print(\"Composition Done...\")\n",
    "\n",
    "\n",
    "        output_midi_path = f'./generations_set/generated_track_transformer_{i}.mid'\n",
    "        output_audio_path = f'./generations_set/generated_track_transformer_{i}.wav'\n",
    "\n",
    "        \n",
    "        generated_path= make_midi(composition, tempo=TEMPO, output_file=output_midi_path)\n",
    "        print(\"Track Done...\")\n",
    "        print(\"Generated Midi file Done...\")\n",
    "\n",
    "        midi_to_wav(output_midi_path, output_audio_path)\n",
    "        print(\"Generated Audio file Done...\")\n",
    "\n",
    "\n",
    "\n",
    "        output_midi_path = f'./validation_set/original_track_transformer_{i}.mid'\n",
    "        output_audio_path = f'./validation_set/original_track_transformer_{i}.wav'\n",
    "\n",
    "        original_track = make_midi(composition=y[:composition_length], tempo=TEMPO, output_file=output_midi_path)\n",
    "        print(\"Original Track Done...\")\n",
    "        print(\"Original Midi file Done...\")\n",
    "\n",
    "        midi_to_wav(output_midi_path, output_audio_path)\n",
    "        print(\"Original Audio file Done...\")\n",
    "\n",
    "    except Exception as E:\n",
    "        print(E)\n",
    "        pass"
   ]
  },
  {
   "cell_type": "code",
   "execution_count": 34,
   "metadata": {},
   "outputs": [],
   "source": [
    "!rm -r ./validation_set/"
   ]
  },
  {
   "cell_type": "code",
   "execution_count": null,
   "metadata": {},
   "outputs": [],
   "source": []
  }
 ],
 "metadata": {
  "kernelspec": {
   "display_name": "Python 3",
   "language": "python",
   "name": "python3"
  },
  "language_info": {
   "codemirror_mode": {
    "name": "ipython",
    "version": 3
   },
   "file_extension": ".py",
   "mimetype": "text/x-python",
   "name": "python",
   "nbconvert_exporter": "python",
   "pygments_lexer": "ipython3",
   "version": "3.11.4"
  }
 },
 "nbformat": 4,
 "nbformat_minor": 2
}
