{
 "cells": [
  {
   "cell_type": "code",
   "execution_count": 1,
   "metadata": {},
   "outputs": [
    {
     "name": "stdout",
     "output_type": "stream",
     "text": [
      "Using TensorFlow backend\n"
     ]
    }
   ],
   "source": [
    "from processing import monophony\n",
    "from processing.monophony import *\n",
    "from models import transformer_encoder_decoder\n",
    "from models import *"
   ]
  },
  {
   "cell_type": "code",
   "execution_count": 2,
   "metadata": {},
   "outputs": [
    {
     "name": "stdout",
     "output_type": "stream",
     "text": [
      "Total Tracks:  174154\n"
     ]
    },
    {
     "data": {
      "text/plain": [
       "'lpd_5/all'"
      ]
     },
     "execution_count": 2,
     "metadata": {},
     "output_type": "execute_result"
    }
   ],
   "source": [
    "monophony._group_subdirs_contents(from_dir='lpd_5/lpd_5_full', to_dir='lpd_5/all')"
   ]
  },
  {
   "cell_type": "code",
   "execution_count": 2,
   "metadata": {},
   "outputs": [
    {
     "name": "stderr",
     "output_type": "stream",
     "text": [
      "WARNING:absl:At this time, the v2.11+ optimizer `tf.keras.optimizers.Adam` runs slowly on M1/M2 Macs, please use the legacy Keras optimizer instead, located at `tf.keras.optimizers.legacy.Adam`.\n"
     ]
    },
    {
     "name": "stdout",
     "output_type": "stream",
     "text": [
      "Model: \"model\"\n",
      "__________________________________________________________________________________________________\n",
      " Layer (type)                Output Shape                 Param #   Connected to                  \n",
      "==================================================================================================\n",
      " input_1 (InputLayer)        [(None, None, 1)]            0         []                            \n",
      "                                                                                                  \n",
      " input_2 (InputLayer)        [(None, None, 1)]            0         []                            \n",
      "                                                                                                  \n",
      " time_distributed (TimeDist  (None, None, 100)            13400     ['input_1[0][0]']             \n",
      " ributed)                                                                                         \n",
      "                                                                                                  \n",
      " time_distributed_1 (TimeDi  (None, None, 100)            13400     ['input_2[0][0]']             \n",
      " stributed)                                                                                       \n",
      "                                                                                                  \n",
      " transformer_encoder (Trans  (None, None, 100)            119688    ['time_distributed[0][0]']    \n",
      " formerEncoder)                                                                                   \n",
      "                                                                                                  \n",
      " transformer_decoder (Trans  (None, None, 100)            119688    ['time_distributed_1[0][0]']  \n",
      " formerDecoder)                                                                                   \n",
      "                                                                                                  \n",
      " transformer_encoder_1 (Tra  (None, None, 100)            119688    ['transformer_encoder[0][0]'] \n",
      " nsformerEncoder)                                                                                 \n",
      "                                                                                                  \n",
      " transformer_decoder_1 (Tra  (None, None, 100)            158676    ['transformer_decoder[0][0]', \n",
      " nsformerDecoder)                                                    'transformer_encoder_1[0][0]'\n",
      "                                                                    ]                             \n",
      "                                                                                                  \n",
      " transformer_decoder_2 (Tra  (None, None, 100)            119688    ['transformer_decoder_1[0][0]'\n",
      " nsformerDecoder)                                                   ]                             \n",
      "                                                                                                  \n",
      " instrument_1 (TimeDistribu  (None, None, 134)            13534     ['transformer_decoder_2[0][0]'\n",
      " ted)                                                               ]                             \n",
      "                                                                                                  \n",
      "==================================================================================================\n",
      "Total params: 664362 (2.53 MB)\n",
      "Trainable params: 664362 (2.53 MB)\n",
      "Non-trainable params: 0 (0.00 Byte)\n",
      "__________________________________________________________________________________________________\n"
     ]
    }
   ],
   "source": [
    "model = transformer_encoder_decoder(ignore_last_class=False)\n",
    "model.summary()"
   ]
  },
  {
   "cell_type": "code",
   "execution_count": 3,
   "metadata": {},
   "outputs": [
    {
     "data": {
      "image/png": "[encoded data removed]",
      "text/plain": [
       "<IPython.core.display.Image object>"
      ]
     },
     "execution_count": 3,
     "metadata": {},
     "output_type": "execute_result"
    }
   ],
   "source": [
    "plot_model(model, show_layer_names=True, show_shapes=True)"
   ]
  },
  {
   "cell_type": "code",
   "execution_count": 4,
   "metadata": {},
   "outputs": [
    {
     "name": "stderr",
     "output_type": "stream",
     "text": [
      "Preparing train dataset...: 100%|██████████| 7200/7200 [06:08<00:00, 19.55it/s]\n",
      "Preparing val dataset...: 100%|██████████| 1800/1800 [01:31<00:00, 19.68it/s]\n",
      "Preparing test dataset...: 100%|██████████| 1000/1000 [00:53<00:00, 18.69it/s]\n"
     ]
    }
   ],
   "source": [
    "#output_sequence_len = 0 if not encoder_decoder else >=1\n",
    "\n",
    "# Data INFO\n",
    "# ~175K midi files\n",
    "# Files could be short melodies, loop compositions or long symphonies or songs\n",
    "# ~10K midi files in each of the 16 top level subdirectories \n",
    "# Considering 300 midi files at present, at 8 resolution..~ 0.2% Dataset\n",
    "# Generating a polyphonic monophony music (multiple instruments each following a monophonic melody line independently) or type of contrapuntal \n",
    "train_source, val_source, test_source  = sample_dataset('./lpd_5/all', nsamples=10000, train_size=0.9, val_size=0.2, input_sequence_len=100, output_sequence_len=200, resolution=8, prune_rest_note_percent=0.5, batch_size=128, encoder_decoder=True)"
   ]
  },
  {
   "cell_type": "code",
   "execution_count": 5,
   "metadata": {},
   "outputs": [
    {
     "data": {
      "text/plain": [
       "9909"
      ]
     },
     "execution_count": 5,
     "metadata": {},
     "output_type": "execute_result"
    }
   ],
   "source": [
    "train_source = ('lpd_5_batched/train_inputs', 'lpd_5_batched/train_outputs')\n",
    "music_loader = load_music_batches(*train_source, encoder_decoder=True)\n",
    "steps = len(os.listdir(train_source[0]))-1\n",
    "steps"
   ]
  },
  {
   "cell_type": "code",
   "execution_count": 6,
   "metadata": {},
   "outputs": [
    {
     "data": {
      "text/plain": [
       "2532"
      ]
     },
     "execution_count": 6,
     "metadata": {},
     "output_type": "execute_result"
    }
   ],
   "source": [
    "val_source = ('lpd_5_batched/val_inputs', 'lpd_5_batched/val_outputs')\n",
    "val_music_loader = load_music_batches(*val_source, encoder_decoder=True)\n",
    "val_steps = len(os.listdir(val_source[0]))-1\n",
    "val_steps"
   ]
  },
  {
   "cell_type": "code",
   "execution_count": 7,
   "metadata": {},
   "outputs": [],
   "source": [
    "import tensorflow as tf\n",
    "import os\n",
    "\n",
    "\n",
    "class ModelCheckpoint(tf.keras.callbacks.Callback):\n",
    "    def __init__(self, model, checkpoint_dir, save_best_only=True):\n",
    "        super(ModelCheckpoint, self).__init__()\n",
    "        self.model = model\n",
    "        self.checkpoint_dir = checkpoint_dir\n",
    "        self.save_best_only = save_best_only\n",
    "        self.best_val_loss = float('inf')\n",
    "\n",
    "    def on_epoch_end(self, epoch, logs=None):\n",
    "        val_loss = logs.get('val_loss')\n",
    "        if self.save_best_only and val_loss < self.best_val_loss:\n",
    "            self.best_val_loss = val_loss\n",
    "            filepath = os.path.join(self.checkpoint_dir, f\"best_model\")\n",
    "            self.model.save(filepath)\n",
    "            print(f\"Saved model to {filepath} (val_loss: {val_loss:.4f})\")\n",
    "        else:\n",
    "            filepath = os.path.join(self.checkpoint_dir, f\"model_epoch_{epoch}\")\n",
    "            self.model.save(filepath)\n",
    "            print(f\"Saved model to {filepath} (val_loss: {val_loss:.4f})\")\n",
    "\n",
    "modelname = \"encoder-decoder-transformer-10Ksamples-1instrument-longer\"\n",
    "checkpoint_dir = f\"./{modelname}-checkpoints\"\n",
    "os.makedirs(checkpoint_dir, exist_ok=True)\n",
    "model_checkpoint = ModelCheckpoint(model, checkpoint_dir)\n",
    "callbacks_list = [model_checkpoint]   \n"
   ]
  },
  {
   "cell_type": "code",
   "execution_count": null,
   "metadata": {},
   "outputs": [],
   "source": [
    "history = model.fit(music_loader, steps_per_epoch=steps, validation_data=val_music_loader, validation_steps=val_steps, epochs=3, callbacks=callbacks_list)"
   ]
  },
  {
   "cell_type": "code",
   "execution_count": 7,
   "metadata": {},
   "outputs": [
    {
     "name": "stdout",
     "output_type": "stream",
     "text": [
      "INFO:tensorflow:Assets written to: encoder-decoder-transformer-10Ksamples-1instrument-longer/assets\n"
     ]
    },
    {
     "name": "stderr",
     "output_type": "stream",
     "text": [
      "INFO:tensorflow:Assets written to: encoder-decoder-transformer-10Ksamples-1instrument-longer/assets\n"
     ]
    }
   ],
   "source": [
    "model.save(modelname)"
   ]
  },
  {
   "cell_type": "code",
   "execution_count": 9,
   "metadata": {},
   "outputs": [
    {
     "name": "stderr",
     "output_type": "stream",
     "text": [
      "Sampling tracks...: 100%|██████████| 100/100 [00:01<00:00, 58.52it/s]\n"
     ]
    }
   ],
   "source": [
    "tracks = sample_track('lpd_5/all', nsamples=100, input_sequence_len=100, resolution=8)"
   ]
  },
  {
   "cell_type": "code",
   "execution_count": 10,
   "metadata": {},
   "outputs": [],
   "source": [
    "x, y = tracks[randint(0, len(tracks)-1)]\n",
    "composer = compose_music(music_model=model, cue=x, topn=129, encoder_decoder=True, print_gen=True)\n",
    "\n"
   ]
  },
  {
   "cell_type": "code",
   "execution_count": 10,
   "metadata": {},
   "outputs": [
    {
     "data": {
      "text/plain": [
       "((100, 1), (1861, 1))"
      ]
     },
     "execution_count": 10,
     "metadata": {},
     "output_type": "execute_result"
    }
   ],
   "source": [
    "x.shape, y.shape"
   ]
  },
  {
   "cell_type": "code",
   "execution_count": 14,
   "metadata": {},
   "outputs": [
    {
     "name": "stdout",
     "output_type": "stream",
     "text": [
      "Sample : 1\n",
      "Composing for 1256 time steps at 60 bpm\n",
      "Composition Done...\n",
      "Track Done...\n",
      "Generated Midi file Done...\n",
      "Playing ./generations_set_mono/generated_track_transformer_0.mid\n",
      "MIDI file: ./generations_set_mono/generated_track_transformer_0.mid\n",
      "Format: 1  Tracks: 2  Divisions: 220\n",
      "Track name: Piano\n",
      "Playing time: ~161 seconds\n",
      "Notes cut: 0\n",
      "Notes lost totally: 0\n",
      "Conversion completed successfully.\n",
      "Generated Audio file Done...\n",
      "Original Track Done...\n",
      "Original Midi file Done...\n",
      "Playing ./validation_set_mono/original_track_transformer_0.mid\n",
      "MIDI file: ./validation_set_mono/original_track_transformer_0.mid\n",
      "Format: 1  Tracks: 2  Divisions: 220\n",
      "Track name: Piano\n",
      "Playing time: ~161 seconds\n",
      "Notes cut: 0\n",
      "Notes lost totally: 0\n",
      "Conversion completed successfully.\n",
      "Original Audio file Done...\n",
      "Sample : 2\n",
      "Composing for 1509 time steps at 60 bpm\n",
      "Composition Done...\n",
      "Track Done...\n",
      "Generated Midi file Done...\n",
      "Playing ./generations_set_mono/generated_track_transformer_1.mid\n",
      "MIDI file: ./generations_set_mono/generated_track_transformer_1.mid\n",
      "Format: 1  Tracks: 2  Divisions: 220\n",
      "Track name: Piano\n",
      "Playing time: ~192 seconds\n",
      "Notes cut: 0\n",
      "Notes lost totally: 0\n",
      "Conversion completed successfully.\n",
      "Generated Audio file Done...\n",
      "Original Track Done...\n",
      "Original Midi file Done...\n",
      "Playing ./validation_set_mono/original_track_transformer_1.mid\n",
      "MIDI file: ./validation_set_mono/original_track_transformer_1.mid\n",
      "Format: 1  Tracks: 2  Divisions: 220\n",
      "Track name: Piano\n",
      "Playing time: ~192 seconds\n",
      "Notes cut: 0\n",
      "Notes lost totally: 0\n",
      "Conversion completed successfully.\n",
      "Original Audio file Done...\n",
      "Sample : 3\n",
      "Composing for 1142 time steps at 60 bpm\n",
      "Composition Done...\n",
      "Track Done...\n",
      "Generated Midi file Done...\n",
      "Playing ./generations_set_mono/generated_track_transformer_2.mid\n",
      "MIDI file: ./generations_set_mono/generated_track_transformer_2.mid\n",
      "Format: 1  Tracks: 2  Divisions: 220\n",
      "Track name: Piano\n",
      "Playing time: ~146 seconds\n",
      "Notes cut: 0\n",
      "Notes lost totally: 0\n",
      "Conversion completed successfully.\n",
      "Generated Audio file Done...\n",
      "Original Track Done...\n",
      "Original Midi file Done...\n",
      "Playing ./validation_set_mono/original_track_transformer_2.mid\n",
      "MIDI file: ./validation_set_mono/original_track_transformer_2.mid\n",
      "Format: 1  Tracks: 2  Divisions: 220\n",
      "Track name: Piano\n",
      "Playing time: ~146 seconds\n",
      "Notes cut: 0\n",
      "Notes lost totally: 0\n",
      "Conversion completed successfully.\n",
      "Original Audio file Done...\n",
      "Sample : 4\n",
      "Composing for 1345 time steps at 60 bpm\n",
      "Composition Done...\n",
      "Track Done...\n",
      "Generated Midi file Done...\n",
      "Playing ./generations_set_mono/generated_track_transformer_3.mid\n",
      "MIDI file: ./generations_set_mono/generated_track_transformer_3.mid\n",
      "Format: 1  Tracks: 2  Divisions: 220\n",
      "Track name: Piano\n",
      "Playing time: ~172 seconds\n",
      "Notes cut: 0\n",
      "Notes lost totally: 0\n",
      "Conversion completed successfully.\n",
      "Generated Audio file Done...\n",
      "Original Track Done...\n",
      "Original Midi file Done...\n",
      "Playing ./validation_set_mono/original_track_transformer_3.mid\n",
      "MIDI file: ./validation_set_mono/original_track_transformer_3.mid\n",
      "Format: 1  Tracks: 2  Divisions: 220\n",
      "Track name: Piano\n",
      "No pre-resampling cache hit\n",
      "Playing time: ~3 seconds\n",
      "Notes cut: 0\n",
      "Notes lost totally: 0\n",
      "Conversion completed successfully.\n",
      "Original Audio file Done...\n",
      "Sample : 5\n",
      "Composing for 1721 time steps at 60 bpm\n",
      "Composition Done...\n",
      "Track Done...\n",
      "Generated Midi file Done...\n",
      "Playing ./generations_set_mono/generated_track_transformer_4.mid\n",
      "MIDI file: ./generations_set_mono/generated_track_transformer_4.mid\n",
      "Format: 1  Tracks: 2  Divisions: 220\n",
      "Track name: Piano\n",
      "Playing time: ~219 seconds\n",
      "Notes cut: 0\n",
      "Notes lost totally: 0\n",
      "Conversion completed successfully.\n",
      "Generated Audio file Done...\n",
      "Original Track Done...\n",
      "Original Midi file Done...\n",
      "Playing ./validation_set_mono/original_track_transformer_4.mid\n",
      "MIDI file: ./validation_set_mono/original_track_transformer_4.mid\n",
      "Format: 1  Tracks: 2  Divisions: 220\n",
      "Track name: Piano\n",
      "Playing time: ~219 seconds\n",
      "Notes cut: 0\n",
      "Notes lost totally: 0\n",
      "Conversion completed successfully.\n",
      "Original Audio file Done...\n",
      "Sample : 6\n",
      "Composing for 1680 time steps at 60 bpm\n",
      "Composition Done...\n",
      "Track Done...\n",
      "Generated Midi file Done...\n",
      "Playing ./generations_set_mono/generated_track_transformer_5.mid\n",
      "MIDI file: ./generations_set_mono/generated_track_transformer_5.mid\n",
      "Format: 1  Tracks: 2  Divisions: 220\n",
      "Track name: Piano\n",
      "Playing time: ~214 seconds\n",
      "Notes cut: 0\n",
      "Notes lost totally: 0\n",
      "Conversion completed successfully.\n",
      "Generated Audio file Done...\n",
      "Original Track Done...\n",
      "Original Midi file Done...\n",
      "Playing ./validation_set_mono/original_track_transformer_5.mid\n",
      "MIDI file: ./validation_set_mono/original_track_transformer_5.mid\n",
      "Format: 1  Tracks: 2  Divisions: 220\n",
      "Track name: Piano\n",
      "Playing time: ~214 seconds\n",
      "Notes cut: 0\n",
      "Notes lost totally: 0\n",
      "Conversion completed successfully.\n",
      "Original Audio file Done...\n",
      "Sample : 7\n",
      "Composing for 1339 time steps at 60 bpm\n",
      "Composition Done...\n",
      "Track Done...\n",
      "Generated Midi file Done...\n",
      "Playing ./generations_set_mono/generated_track_transformer_6.mid\n",
      "MIDI file: ./generations_set_mono/generated_track_transformer_6.mid\n",
      "Format: 1  Tracks: 2  Divisions: 220\n",
      "Track name: Piano\n",
      "Playing time: ~171 seconds\n",
      "Notes cut: 0\n",
      "Notes lost totally: 0\n",
      "Conversion completed successfully.\n",
      "Generated Audio file Done...\n",
      "Original Track Done...\n",
      "Original Midi file Done...\n",
      "Playing ./validation_set_mono/original_track_transformer_6.mid\n",
      "MIDI file: ./validation_set_mono/original_track_transformer_6.mid\n",
      "Format: 1  Tracks: 2  Divisions: 220\n",
      "Track name: Piano\n",
      "Playing time: ~171 seconds\n",
      "Notes cut: 0\n",
      "Notes lost totally: 0\n",
      "Conversion completed successfully.\n",
      "Original Audio file Done...\n",
      "Sample : 8\n",
      "Composing for 1224 time steps at 60 bpm\n",
      "Composition Done...\n",
      "Track Done...\n",
      "Generated Midi file Done...\n",
      "Playing ./generations_set_mono/generated_track_transformer_7.mid\n",
      "MIDI file: ./generations_set_mono/generated_track_transformer_7.mid\n",
      "Format: 1  Tracks: 2  Divisions: 220\n",
      "Track name: Piano\n",
      "Playing time: ~157 seconds\n",
      "Notes cut: 0\n",
      "Notes lost totally: 0\n",
      "Conversion completed successfully.\n",
      "Generated Audio file Done...\n",
      "Original Track Done...\n",
      "Original Midi file Done...\n",
      "Playing ./validation_set_mono/original_track_transformer_7.mid\n",
      "MIDI file: ./validation_set_mono/original_track_transformer_7.mid\n",
      "Format: 1  Tracks: 2  Divisions: 220\n",
      "Track name: Piano\n",
      "Playing time: ~157 seconds\n",
      "Notes cut: 0\n",
      "Notes lost totally: 0\n",
      "Conversion completed successfully.\n",
      "Original Audio file Done...\n",
      "Sample : 9\n",
      "Composing for 334 time steps at 60 bpm\n",
      "Composition Done...\n",
      "Track Done...\n",
      "Generated Midi file Done...\n",
      "Playing ./generations_set_mono/generated_track_transformer_8.mid\n",
      "MIDI file: ./generations_set_mono/generated_track_transformer_8.mid\n",
      "Format: 1  Tracks: 2  Divisions: 220\n",
      "Track name: Piano\n",
      "No pre-resampling cache hit\n",
      "Playing time: ~3 seconds\n",
      "Notes cut: 0\n",
      "Notes lost totally: 0\n",
      "Conversion completed successfully.\n",
      "Generated Audio file Done...\n",
      "Original Track Done...\n",
      "Original Midi file Done...\n",
      "Playing ./validation_set_mono/original_track_transformer_8.mid\n",
      "MIDI file: ./validation_set_mono/original_track_transformer_8.mid\n",
      "Format: 1  Tracks: 2  Divisions: 220\n",
      "Track name: Piano\n",
      "No pre-resampling cache hit\n",
      "Playing time: ~3 seconds\n",
      "Notes cut: 0\n",
      "Notes lost totally: 0\n",
      "Conversion completed successfully.\n",
      "Original Audio file Done...\n",
      "Sample : 10\n",
      "Composing for 1360 time steps at 60 bpm\n",
      "Composition Done...\n",
      "Track Done...\n",
      "Generated Midi file Done...\n",
      "Playing ./generations_set_mono/generated_track_transformer_9.mid\n",
      "MIDI file: ./generations_set_mono/generated_track_transformer_9.mid\n",
      "Format: 1  Tracks: 2  Divisions: 220\n",
      "Track name: Piano\n",
      "Playing time: ~174 seconds\n",
      "Notes cut: 0\n",
      "Notes lost totally: 0\n",
      "Conversion completed successfully.\n",
      "Generated Audio file Done...\n",
      "Original Track Done...\n",
      "Original Midi file Done...\n",
      "Playing ./validation_set_mono/original_track_transformer_9.mid\n",
      "MIDI file: ./validation_set_mono/original_track_transformer_9.mid\n",
      "Format: 1  Tracks: 2  Divisions: 220\n",
      "Track name: Piano\n",
      "Playing time: ~173 seconds\n",
      "Notes cut: 0\n",
      "Notes lost totally: 0\n",
      "Conversion completed successfully.\n",
      "Original Audio file Done...\n",
      "Sample : 11\n",
      "Composing for 2237 time steps at 60 bpm\n",
      "Composition Done...\n",
      "Track Done...\n",
      "Generated Midi file Done...\n",
      "Playing ./generations_set_mono/generated_track_transformer_10.mid\n",
      "MIDI file: ./generations_set_mono/generated_track_transformer_10.mid\n",
      "Format: 1  Tracks: 2  Divisions: 220\n",
      "Track name: Piano\n",
      "Playing time: ~282 seconds\n",
      "Notes cut: 0\n",
      "Notes lost totally: 0\n",
      "Conversion completed successfully.\n",
      "Generated Audio file Done...\n",
      "Original Track Done...\n",
      "Original Midi file Done...\n",
      "Playing ./validation_set_mono/original_track_transformer_10.mid\n",
      "MIDI file: ./validation_set_mono/original_track_transformer_10.mid\n",
      "Format: 1  Tracks: 2  Divisions: 220\n",
      "Track name: Piano\n",
      "No pre-resampling cache hit\n",
      "Playing time: ~3 seconds\n",
      "Notes cut: 0\n",
      "Notes lost totally: 0\n",
      "Conversion completed successfully.\n",
      "Original Audio file Done...\n",
      "Sample : 12\n",
      "Composing for 186 time steps at 60 bpm\n",
      "Composition Done...\n",
      "Track Done...\n",
      "Generated Midi file Done...\n",
      "Playing ./generations_set_mono/generated_track_transformer_11.mid\n",
      "MIDI file: ./generations_set_mono/generated_track_transformer_11.mid\n",
      "Format: 1  Tracks: 2  Divisions: 220\n",
      "Track name: Piano\n",
      "Playing time: ~27 seconds\n",
      "Notes cut: 0\n",
      "Notes lost totally: 0\n",
      "Conversion completed successfully.\n",
      "Generated Audio file Done...\n",
      "Original Track Done...\n",
      "Original Midi file Done...\n",
      "Playing ./validation_set_mono/original_track_transformer_11.mid\n",
      "MIDI file: ./validation_set_mono/original_track_transformer_11.mid\n",
      "Format: 1  Tracks: 2  Divisions: 220\n",
      "Track name: Piano\n",
      "Playing time: ~27 seconds\n",
      "Notes cut: 0\n",
      "Notes lost totally: 0\n",
      "Conversion completed successfully.\n",
      "Original Audio file Done...\n",
      "Sample : 13\n",
      "Composing for 68 time steps at 60 bpm\n",
      "Composition Done...\n",
      "Track Done...\n",
      "Generated Midi file Done...\n",
      "Playing ./generations_set_mono/generated_track_transformer_12.mid\n",
      "MIDI file: ./generations_set_mono/generated_track_transformer_12.mid\n",
      "Format: 1  Tracks: 2  Divisions: 220\n",
      "Track name: Piano\n",
      "Playing time: ~10 seconds\n",
      "Notes cut: 0\n",
      "Notes lost totally: 0\n",
      "Conversion completed successfully.\n",
      "Generated Audio file Done...\n",
      "Original Track Done...\n",
      "Original Midi file Done...\n",
      "Playing ./validation_set_mono/original_track_transformer_12.mid\n",
      "MIDI file: ./validation_set_mono/original_track_transformer_12.mid\n",
      "Format: 1  Tracks: 2  Divisions: 220\n",
      "Track name: Piano\n",
      "No pre-resampling cache hit\n",
      "Playing time: ~3 seconds\n",
      "Notes cut: 0\n",
      "Notes lost totally: 0\n",
      "Conversion completed successfully.\n",
      "Original Audio file Done...\n",
      "Sample : 14\n",
      "Composing for 1091 time steps at 60 bpm\n",
      "Composition Done...\n",
      "Track Done...\n",
      "Generated Midi file Done...\n",
      "Playing ./generations_set_mono/generated_track_transformer_13.mid\n",
      "MIDI file: ./generations_set_mono/generated_track_transformer_13.mid\n",
      "Format: 1  Tracks: 2  Divisions: 220\n",
      "Track name: Piano\n",
      "Playing time: ~140 seconds\n",
      "Notes cut: 0\n",
      "Notes lost totally: 0\n",
      "Conversion completed successfully.\n",
      "Generated Audio file Done...\n",
      "Original Track Done...\n",
      "Original Midi file Done...\n",
      "Playing ./validation_set_mono/original_track_transformer_13.mid\n",
      "MIDI file: ./validation_set_mono/original_track_transformer_13.mid\n",
      "Format: 1  Tracks: 2  Divisions: 220\n",
      "Track name: Piano\n",
      "No pre-resampling cache hit\n",
      "Playing time: ~3 seconds\n",
      "Notes cut: 0\n",
      "Notes lost totally: 0\n",
      "Conversion completed successfully.\n",
      "Original Audio file Done...\n",
      "Sample : 15\n",
      "Composing for 350 time steps at 60 bpm\n",
      "Composition Done...\n",
      "Track Done...\n",
      "Generated Midi file Done...\n",
      "Playing ./generations_set_mono/generated_track_transformer_14.mid\n",
      "MIDI file: ./generations_set_mono/generated_track_transformer_14.mid\n",
      "Format: 1  Tracks: 2  Divisions: 220\n",
      "Track name: Piano\n",
      "Playing time: ~47 seconds\n",
      "Notes cut: 0\n",
      "Notes lost totally: 0\n",
      "Conversion completed successfully.\n",
      "Generated Audio file Done...\n",
      "Original Track Done...\n",
      "Original Midi file Done...\n",
      "Playing ./validation_set_mono/original_track_transformer_14.mid\n",
      "MIDI file: ./validation_set_mono/original_track_transformer_14.mid\n",
      "Format: 1  Tracks: 2  Divisions: 220\n",
      "Track name: Piano\n",
      "Playing time: ~47 seconds\n",
      "Notes cut: 0\n",
      "Notes lost totally: 0\n",
      "Conversion completed successfully.\n",
      "Original Audio file Done...\n"
     ]
    }
   ],
   "source": [
    "\n",
    "os.makedirs('./generations_set_mono', exist_ok=True)\n",
    "os.makedirs('./validation_set_mono', exist_ok=True)\n",
    "\n",
    "for i in range(15):\n",
    "    print(f\"Sample : {i+1}\")\n",
    "    try:\n",
    "        x, y = tracks[randint(0, len(tracks)-1)]\n",
    "        composer = compose_music(music_model=model, cue=x, topn=129, encoder_decoder=True, print_gen=False)\n",
    "        total_track_length = y.shape[0]\n",
    "        composition_length = int(0.5*total_track_length)\n",
    "        TEMPO = 60\n",
    "\n",
    "        print(f\"Composing for {composition_length} time steps at {TEMPO} bpm\")\n",
    "        for _ in range(composition_length):\n",
    "            composition = next(composer)\n",
    "         \n",
    "        print(\"Composition Done...\")\n",
    "\n",
    "\n",
    "        output_midi_path = f'./generations_set_mono/generated_track_transformer_{i}.mid'\n",
    "        output_audio_path = f'./generations_set_mono/generated_track_transformer_{i}.wav'\n",
    "\n",
    "        \n",
    "        \n",
    "        generated_track = make_track(composition, tempo=TEMPO)\n",
    "        print(\"Track Done...\")\n",
    "\n",
    "        multitrack_to_midi(generated_track, output_midi_path)\n",
    "        print(\"Generated Midi file Done...\")\n",
    "\n",
    "        midi_to_wav(output_midi_path, output_audio_path)\n",
    "        print(\"Generated Audio file Done...\")\n",
    "\n",
    "\n",
    "\n",
    "        output_midi_path = f'./validation_set_mono/original_track_transformer_{i}.mid'\n",
    "        output_audio_path = f'./validation_set_mono/original_track_transformer_{i}.wav'\n",
    "\n",
    "\n",
    "\n",
    "        original_track = make_track(composition=y[:composition_length], tempo=TEMPO, composition_tokenized=False)\n",
    "        print(\"Original Track Done...\")\n",
    "\n",
    "        multitrack_to_midi(original_track, output_midi_path)\n",
    "        print(\"Original Midi file Done...\")\n",
    "        midi_to_wav(output_midi_path, output_audio_path)\n",
    "        print(\"Original Audio file Done...\")\n",
    "\n",
    "  \n",
    "    except Exception as E:\n",
    "        print(E)\n",
    "        pass"
   ]
  },
  {
   "cell_type": "code",
   "execution_count": 13,
   "metadata": {},
   "outputs": [],
   "source": [
    "!rm -r ./generations_set_mono/"
   ]
  },
  {
   "cell_type": "code",
   "execution_count": null,
   "metadata": {},
   "outputs": [],
   "source": []
  }
 ],
 "metadata": {
  "kernelspec": {
   "display_name": "Python 3",
   "language": "python",
   "name": "python3"
  },
  "language_info": {
   "codemirror_mode": {
    "name": "ipython",
    "version": 3
   },
   "file_extension": ".py",
   "mimetype": "text/x-python",
   "name": "python",
   "nbconvert_exporter": "python",
   "pygments_lexer": "ipython3",
   "version": "3.11.4"
  }
 },
 "nbformat": 4,
 "nbformat_minor": 2
}
